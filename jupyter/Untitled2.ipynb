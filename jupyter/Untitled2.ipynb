{
 "cells": [
  {
   "cell_type": "code",
   "execution_count": null,
   "metadata": {},
   "outputs": [],
   "source": [
    "import sys\n",
    "from collections import Counter\n",
    "try:\n",
    "\tnum_words = int(sys.argv[1])\n",
    "except:\n",
    "\tprint (\"usage: most_common_words.py num_words\")\n",
    "\tsys.exit(1)\n",
    "counter = Counter(word.lower()\n",
    "\tfor line in sys.stdin\n",
    "\tfor word in line.strip().split()\n",
    "\tif word)\n",
    "for word, count in counter.most_common(num_words):\n",
    "\tsys.stdout.write(str(count))\n",
    "\tsys.stdout.write(\"\\t\")\n",
    "\tsys.stdout.write(word)\n",
    "\tsys.stdout.write(\"\\n\")"
   ]
  }
 ],
 "metadata": {
  "kernelspec": {
   "display_name": "Python 3",
   "language": "python",
   "name": "python3"
  },
  "language_info": {
   "codemirror_mode": {
    "name": "ipython",
    "version": 3
   },
   "file_extension": ".py",
   "mimetype": "text/x-python",
   "name": "python",
   "nbconvert_exporter": "python",
   "pygments_lexer": "ipython3",
   "version": "3.6.8"
  }
 },
 "nbformat": 4,
 "nbformat_minor": 2
}
