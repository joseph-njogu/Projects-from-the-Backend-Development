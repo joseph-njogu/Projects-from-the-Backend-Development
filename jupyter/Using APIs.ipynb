{
 "cells": [
  {
   "cell_type": "markdown",
   "metadata": {},
   "source": [
    "READING FILES"
   ]
  },
  {
   "cell_type": "code",
   "execution_count": 1,
   "metadata": {},
   "outputs": [],
   "source": [
    "# 'r' means read-only\n",
    "file_for_reading = open('reading_file.txt', 'r')\n",
    "# 'w' is write—will destroy the file if it already exists!\n",
    "file_for_writing = open('writing_file.txt', 'w')\n",
    "# 'a' is append—for adding to the end of the file\n",
    "file_for_appending = open('appending_file.txt', 'a')\n",
    "# don't forget to close your files when you're done\n",
    "file_for_writing.close()"
   ]
  },
  {
   "cell_type": "code",
   "execution_count": null,
   "metadata": {},
   "outputs": [],
   "source": [
    "# Because it is easy to forget to close your files, you should always use them in a with\n",
    "# block, at the end of which they will be closed automatically:"
   ]
  },
  {
   "cell_type": "code",
   "execution_count": null,
   "metadata": {},
   "outputs": [],
   "source": [
    "with open('filename','r') as f:\n",
    "data = function_that_gets_data_from(f)\n",
    "# at this point f has already been closed, so don't try to use it\n",
    "process(data)"
   ]
  },
  {
   "cell_type": "code",
   "execution_count": null,
   "metadata": {},
   "outputs": [],
   "source": [
    "# working with delimitted files:commas,pipes,colons or tabs\n",
    "# the data you have could not be having headers you add headers as below\n",
    "# also you can read the file by skipping the first line by reader.next() function or by using the DictReader"
   ]
  },
  {
   "cell_type": "code",
   "execution_count": null,
   "metadata": {},
   "outputs": [],
   "source": [
    "import csv\n",
    "with open('filename', 'rb') as f:\n",
    "    reader = csv.reader(f, delimiter='\\t')\n",
    "    reader = csv.reader(f, delimiter='|')\n",
    "    reader = csv.reader(f, delimiter=':')\n",
    "    reader = csv.reader(f, delimiter=',')\n",
    "   # reader = csv.DictReader(f, delimiter=':')\n",
    "    for row in reader:\n",
    "#         date = row[\"date\"]\n",
    "        date = row[0]\n",
    "#         symbol = row[\"symbol\"]\n",
    "        symbol = row[1]\n",
    "#         closing_price = float(row[\"closing_price\"])\n",
    "        closing_price = float(row[2])\n",
    "        process(date, symbol, closing_price)"
   ]
  },
  {
   "cell_type": "code",
   "execution_count": null,
   "metadata": {},
   "outputs": [],
   "source": []
  },
  {
   "cell_type": "code",
   "execution_count": null,
   "metadata": {},
   "outputs": [],
   "source": [
    "import json"
   ]
  },
  {
   "cell_type": "code",
   "execution_count": 4,
   "metadata": {},
   "outputs": [
    {
     "name": "stdout",
     "output_type": "stream",
     "text": [
      "{'title': 'Data Science Book', 'author': 'Joel Grus', 'publicationYear': 2014, 'topics': ['data', 'science', 'data science']}\n"
     ]
    }
   ],
   "source": [
    "# serialized = \"\"\"{ \"title\" : \"Data Science Book\",\n",
    "# \"author\" : \"Joel Grus\",\n",
    "# \"publicationYear\" : 2014,\n",
    "# \"topics\" : [ \"data\", \"science\", \"data science\"] }\"\"\"\n",
    "# # parse the JSON to create a Python dict\n",
    "# deserialized = json.loads(serialized)\n",
    "# if \"data science\" in deserialized[\"topics\"]:\n",
    "#     print (deserialized)"
   ]
  },
  {
   "cell_type": "code",
   "execution_count": null,
   "metadata": {},
   "outputs": [],
   "source": []
  }
 ],
 "metadata": {
  "kernelspec": {
   "display_name": "Python 3",
   "language": "python",
   "name": "python3"
  },
  "language_info": {
   "codemirror_mode": {
    "name": "ipython",
    "version": 3
   },
   "file_extension": ".py",
   "mimetype": "text/x-python",
   "name": "python",
   "nbconvert_exporter": "python",
   "pygments_lexer": "ipython3",
   "version": "3.6.8"
  }
 },
 "nbformat": 4,
 "nbformat_minor": 2
}
