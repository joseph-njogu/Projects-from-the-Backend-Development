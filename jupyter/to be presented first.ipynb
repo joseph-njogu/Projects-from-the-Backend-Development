{
 "cells": [
  {
   "cell_type": "markdown",
   "metadata": {},
   "source": [
    "#this is the first time am doing it"
   ]
  },
  {
   "cell_type": "code",
   "execution_count": 3,
   "metadata": {},
   "outputs": [],
   "source": [
    "import pandas as pd"
   ]
  },
  {
   "cell_type": "code",
   "execution_count": 4,
   "metadata": {},
   "outputs": [],
   "source": [
    "import csv"
   ]
  },
  {
   "cell_type": "code",
   "execution_count": 5,
   "metadata": {},
   "outputs": [
    {
     "data": {
      "text/html": [
       "<div>\n",
       "<style scoped>\n",
       "    .dataframe tbody tr th:only-of-type {\n",
       "        vertical-align: middle;\n",
       "    }\n",
       "\n",
       "    .dataframe tbody tr th {\n",
       "        vertical-align: top;\n",
       "    }\n",
       "\n",
       "    .dataframe thead th {\n",
       "        text-align: right;\n",
       "    }\n",
       "</style>\n",
       "<table border=\"1\" class=\"dataframe\">\n",
       "  <thead>\n",
       "    <tr style=\"text-align: right;\">\n",
       "      <th></th>\n",
       "      <th>Section Name</th>\n",
       "      <th>Menu Name</th>\n",
       "      <th>Channel ID</th>\n",
       "      <th>Editor (User Name)</th>\n",
       "    </tr>\n",
       "  </thead>\n",
       "  <tbody>\n",
       "    <tr>\n",
       "      <th>0</th>\n",
       "      <td>Joe Smith</td>\n",
       "      <td>Joe Smith</td>\n",
       "      <td>3711</td>\n",
       "      <td>kcraig</td>\n",
       "    </tr>\n",
       "    <tr>\n",
       "      <th>1</th>\n",
       "      <td>Jason Jones</td>\n",
       "      <td>Jason Jones</td>\n",
       "      <td>3711</td>\n",
       "      <td>vcraig</td>\n",
       "    </tr>\n",
       "    <tr>\n",
       "      <th>2</th>\n",
       "      <td>Rick Jones</td>\n",
       "      <td>Rick Jones</td>\n",
       "      <td>3711</td>\n",
       "      <td>scraig</td>\n",
       "    </tr>\n",
       "    <tr>\n",
       "      <th>3</th>\n",
       "      <td>Jessica Rogers</td>\n",
       "      <td>Jessica Rogers</td>\n",
       "      <td>3711</td>\n",
       "      <td>vcraig</td>\n",
       "    </tr>\n",
       "    <tr>\n",
       "      <th>4</th>\n",
       "      <td>Zachery Smith</td>\n",
       "      <td>Zachery Smith</td>\n",
       "      <td>3711</td>\n",
       "      <td>scraig</td>\n",
       "    </tr>\n",
       "    <tr>\n",
       "      <th>5</th>\n",
       "      <td>Mathematics</td>\n",
       "      <td>Mathematics</td>\n",
       "      <td>3710</td>\n",
       "      <td>NaN</td>\n",
       "    </tr>\n",
       "    <tr>\n",
       "      <th>6</th>\n",
       "      <td>Social Studies</td>\n",
       "      <td>Social Studies</td>\n",
       "      <td>3710</td>\n",
       "      <td>NaN</td>\n",
       "    </tr>\n",
       "    <tr>\n",
       "      <th>7</th>\n",
       "      <td>Music</td>\n",
       "      <td>Music</td>\n",
       "      <td>3710</td>\n",
       "      <td>NaN</td>\n",
       "    </tr>\n",
       "    <tr>\n",
       "      <th>8</th>\n",
       "      <td>Visual Arts</td>\n",
       "      <td>Visual Arts</td>\n",
       "      <td>3710</td>\n",
       "      <td>NaN</td>\n",
       "    </tr>\n",
       "  </tbody>\n",
       "</table>\n",
       "</div>"
      ],
      "text/plain": [
       "     Section Name       Menu Name  Channel ID Editor (User Name)\n",
       "0       Joe Smith       Joe Smith        3711             kcraig\n",
       "1     Jason Jones     Jason Jones        3711             vcraig\n",
       "2      Rick Jones      Rick Jones        3711             scraig\n",
       "3  Jessica Rogers  Jessica Rogers        3711             vcraig\n",
       "4   Zachery Smith   Zachery Smith        3711             scraig\n",
       "5     Mathematics     Mathematics        3710                NaN\n",
       "6  Social Studies  Social Studies        3710                NaN\n",
       "7           Music           Music        3710                NaN\n",
       "8     Visual Arts     Visual Arts        3710                NaN"
      ]
     },
     "execution_count": 5,
     "metadata": {},
     "output_type": "execute_result"
    }
   ],
   "source": [
    "pd.read_csv(\"C2SectionRobotSample.csv\")"
   ]
  },
  {
   "cell_type": "code",
   "execution_count": 6,
   "metadata": {},
   "outputs": [],
   "source": [
    "dta = pd.read_csv(\"C2SectionRobotSample.csv\")"
   ]
  },
  {
   "cell_type": "code",
   "execution_count": 9,
   "metadata": {},
   "outputs": [
    {
     "data": {
      "text/plain": [
       "<bound method DataFrame.info of      Section Name       Menu Name  Channel ID Editor (User Name)\n",
       "0       Joe Smith       Joe Smith        3711             kcraig\n",
       "1     Jason Jones     Jason Jones        3711             vcraig\n",
       "2      Rick Jones      Rick Jones        3711             scraig\n",
       "3  Jessica Rogers  Jessica Rogers        3711             vcraig\n",
       "4   Zachery Smith   Zachery Smith        3711             scraig\n",
       "5     Mathematics     Mathematics        3710                NaN\n",
       "6  Social Studies  Social Studies        3710                NaN\n",
       "7           Music           Music        3710                NaN\n",
       "8     Visual Arts     Visual Arts        3710                NaN>"
      ]
     },
     "execution_count": 9,
     "metadata": {},
     "output_type": "execute_result"
    }
   ],
   "source": [
    "dta.index\n",
    "dta.head(0)\n",
    "dta.info"
   ]
  },
  {
   "cell_type": "code",
   "execution_count": 10,
   "metadata": {},
   "outputs": [
    {
     "data": {
      "text/html": [
       "<div>\n",
       "<style scoped>\n",
       "    .dataframe tbody tr th:only-of-type {\n",
       "        vertical-align: middle;\n",
       "    }\n",
       "\n",
       "    .dataframe tbody tr th {\n",
       "        vertical-align: top;\n",
       "    }\n",
       "\n",
       "    .dataframe thead th {\n",
       "        text-align: right;\n",
       "    }\n",
       "</style>\n",
       "<table border=\"1\" class=\"dataframe\">\n",
       "  <thead>\n",
       "    <tr style=\"text-align: right;\">\n",
       "      <th></th>\n",
       "      <th>Channel ID</th>\n",
       "    </tr>\n",
       "  </thead>\n",
       "  <tbody>\n",
       "    <tr>\n",
       "      <th>count</th>\n",
       "      <td>9.000000</td>\n",
       "    </tr>\n",
       "    <tr>\n",
       "      <th>mean</th>\n",
       "      <td>3710.555556</td>\n",
       "    </tr>\n",
       "    <tr>\n",
       "      <th>std</th>\n",
       "      <td>0.527046</td>\n",
       "    </tr>\n",
       "    <tr>\n",
       "      <th>min</th>\n",
       "      <td>3710.000000</td>\n",
       "    </tr>\n",
       "    <tr>\n",
       "      <th>25%</th>\n",
       "      <td>3710.000000</td>\n",
       "    </tr>\n",
       "    <tr>\n",
       "      <th>50%</th>\n",
       "      <td>3711.000000</td>\n",
       "    </tr>\n",
       "    <tr>\n",
       "      <th>75%</th>\n",
       "      <td>3711.000000</td>\n",
       "    </tr>\n",
       "    <tr>\n",
       "      <th>max</th>\n",
       "      <td>3711.000000</td>\n",
       "    </tr>\n",
       "  </tbody>\n",
       "</table>\n",
       "</div>"
      ],
      "text/plain": [
       "        Channel ID\n",
       "count     9.000000\n",
       "mean   3710.555556\n",
       "std       0.527046\n",
       "min    3710.000000\n",
       "25%    3710.000000\n",
       "50%    3711.000000\n",
       "75%    3711.000000\n",
       "max    3711.000000"
      ]
     },
     "execution_count": 10,
     "metadata": {},
     "output_type": "execute_result"
    }
   ],
   "source": [
    "dta.describe()"
   ]
  },
  {
   "cell_type": "code",
   "execution_count": 11,
   "metadata": {},
   "outputs": [
    {
     "data": {
      "text/plain": [
       "Index(['Section Name', 'Menu Name', 'Channel ID', 'Editor (User Name)'], dtype='object')"
      ]
     },
     "execution_count": 11,
     "metadata": {},
     "output_type": "execute_result"
    }
   ],
   "source": [
    "dta.columns"
   ]
  },
  {
   "cell_type": "code",
   "execution_count": 11,
   "metadata": {},
   "outputs": [
    {
     "data": {
      "text/html": [
       "<div>\n",
       "<style scoped>\n",
       "    .dataframe tbody tr th:only-of-type {\n",
       "        vertical-align: middle;\n",
       "    }\n",
       "\n",
       "    .dataframe tbody tr th {\n",
       "        vertical-align: top;\n",
       "    }\n",
       "\n",
       "    .dataframe thead th {\n",
       "        text-align: right;\n",
       "    }\n",
       "</style>\n",
       "<table border=\"1\" class=\"dataframe\">\n",
       "  <thead>\n",
       "    <tr style=\"text-align: right;\">\n",
       "      <th></th>\n",
       "      <th>Section Name</th>\n",
       "      <th>Menu Name</th>\n",
       "      <th>Channel ID</th>\n",
       "    </tr>\n",
       "    <tr>\n",
       "      <th>Editor (User Name)</th>\n",
       "      <th></th>\n",
       "      <th></th>\n",
       "      <th></th>\n",
       "    </tr>\n",
       "  </thead>\n",
       "  <tbody>\n",
       "    <tr>\n",
       "      <th>kcraig</th>\n",
       "      <td>Joe Smith</td>\n",
       "      <td>Joe Smith</td>\n",
       "      <td>3711</td>\n",
       "    </tr>\n",
       "    <tr>\n",
       "      <th>vcraig</th>\n",
       "      <td>Jason Jones</td>\n",
       "      <td>Jason Jones</td>\n",
       "      <td>3711</td>\n",
       "    </tr>\n",
       "    <tr>\n",
       "      <th>scraig</th>\n",
       "      <td>Rick Jones</td>\n",
       "      <td>Rick Jones</td>\n",
       "      <td>3711</td>\n",
       "    </tr>\n",
       "    <tr>\n",
       "      <th>vcraig</th>\n",
       "      <td>Jessica Rogers</td>\n",
       "      <td>Jessica Rogers</td>\n",
       "      <td>3711</td>\n",
       "    </tr>\n",
       "    <tr>\n",
       "      <th>scraig</th>\n",
       "      <td>Zachery Smith</td>\n",
       "      <td>Zachery Smith</td>\n",
       "      <td>3711</td>\n",
       "    </tr>\n",
       "    <tr>\n",
       "      <th>NaN</th>\n",
       "      <td>Mathematics</td>\n",
       "      <td>Mathematics</td>\n",
       "      <td>3710</td>\n",
       "    </tr>\n",
       "    <tr>\n",
       "      <th>NaN</th>\n",
       "      <td>Social Studies</td>\n",
       "      <td>Social Studies</td>\n",
       "      <td>3710</td>\n",
       "    </tr>\n",
       "    <tr>\n",
       "      <th>NaN</th>\n",
       "      <td>Music</td>\n",
       "      <td>Music</td>\n",
       "      <td>3710</td>\n",
       "    </tr>\n",
       "    <tr>\n",
       "      <th>NaN</th>\n",
       "      <td>Visual Arts</td>\n",
       "      <td>Visual Arts</td>\n",
       "      <td>3710</td>\n",
       "    </tr>\n",
       "  </tbody>\n",
       "</table>\n",
       "</div>"
      ],
      "text/plain": [
       "                      Section Name       Menu Name  Channel ID\n",
       "Editor (User Name)                                            \n",
       "kcraig                   Joe Smith       Joe Smith        3711\n",
       "vcraig                 Jason Jones     Jason Jones        3711\n",
       "scraig                  Rick Jones      Rick Jones        3711\n",
       "vcraig              Jessica Rogers  Jessica Rogers        3711\n",
       "scraig               Zachery Smith   Zachery Smith        3711\n",
       "NaN                    Mathematics     Mathematics        3710\n",
       "NaN                 Social Studies  Social Studies        3710\n",
       "NaN                          Music           Music        3710\n",
       "NaN                    Visual Arts     Visual Arts        3710"
      ]
     },
     "execution_count": 11,
     "metadata": {},
     "output_type": "execute_result"
    }
   ],
   "source": [
    "dta.set_index('Editor (User Name)')"
   ]
  },
  {
   "cell_type": "code",
   "execution_count": 13,
   "metadata": {},
   "outputs": [
    {
     "data": {
      "text/plain": [
       "RangeIndex(start=0, stop=9, step=1)"
      ]
     },
     "execution_count": 13,
     "metadata": {},
     "output_type": "execute_result"
    }
   ],
   "source": [
    "dta.index"
   ]
  },
  {
   "cell_type": "code",
   "execution_count": 16,
   "metadata": {},
   "outputs": [
    {
     "data": {
      "text/plain": [
       "<bound method DataFrame.info of      Section Name       Menu Name  Channel ID Editor (User Name)\n",
       "0       Joe Smith       Joe Smith        3711             kcraig\n",
       "1     Jason Jones     Jason Jones        3711             vcraig\n",
       "2      Rick Jones      Rick Jones        3711             scraig\n",
       "3  Jessica Rogers  Jessica Rogers        3711             vcraig\n",
       "4   Zachery Smith   Zachery Smith        3711             scraig\n",
       "5     Mathematics     Mathematics        3710                NaN\n",
       "6  Social Studies  Social Studies        3710                NaN\n",
       "7           Music           Music        3710                NaN\n",
       "8     Visual Arts     Visual Arts        3710                NaN>"
      ]
     },
     "execution_count": 16,
     "metadata": {},
     "output_type": "execute_result"
    }
   ],
   "source": [
    "dta.info"
   ]
  },
  {
   "cell_type": "code",
   "execution_count": 19,
   "metadata": {},
   "outputs": [
    {
     "data": {
      "text/html": [
       "<div>\n",
       "<style scoped>\n",
       "    .dataframe tbody tr th:only-of-type {\n",
       "        vertical-align: middle;\n",
       "    }\n",
       "\n",
       "    .dataframe tbody tr th {\n",
       "        vertical-align: top;\n",
       "    }\n",
       "\n",
       "    .dataframe thead th {\n",
       "        text-align: right;\n",
       "    }\n",
       "</style>\n",
       "<table border=\"1\" class=\"dataframe\">\n",
       "  <thead>\n",
       "    <tr style=\"text-align: right;\">\n",
       "      <th></th>\n",
       "      <th>Section Name</th>\n",
       "      <th>Menu Name</th>\n",
       "      <th>Channel ID</th>\n",
       "      <th>Editor (User Name)</th>\n",
       "    </tr>\n",
       "  </thead>\n",
       "  <tbody>\n",
       "  </tbody>\n",
       "</table>\n",
       "</div>"
      ],
      "text/plain": [
       "Empty DataFrame\n",
       "Columns: [Section Name, Menu Name, Channel ID, Editor (User Name)]\n",
       "Index: []"
      ]
     },
     "execution_count": 19,
     "metadata": {},
     "output_type": "execute_result"
    }
   ],
   "source": [
    "dta.iloc[3:2]"
   ]
  },
  {
   "cell_type": "code",
   "execution_count": null,
   "metadata": {},
   "outputs": [],
   "source": []
  }
 ],
 "metadata": {
  "kernelspec": {
   "display_name": "Python 3",
   "language": "python",
   "name": "python3"
  },
  "language_info": {
   "codemirror_mode": {
    "name": "ipython",
    "version": 3
   },
   "file_extension": ".py",
   "mimetype": "text/x-python",
   "name": "python",
   "nbconvert_exporter": "python",
   "pygments_lexer": "ipython3",
   "version": "3.6.8"
  }
 },
 "nbformat": 4,
 "nbformat_minor": 2
}
